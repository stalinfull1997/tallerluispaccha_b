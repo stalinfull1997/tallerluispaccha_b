{
 "cells": [
  {
   "cell_type": "code",
   "execution_count": 3,
   "metadata": {},
   "outputs": [
    {
     "name": "stdout",
     "output_type": "stream",
     "text": [
      "Requirement already satisfied: numpy in /home/codespace/.local/lib/python3.10/site-packages (1.24.3)\n",
      "\n",
      "\u001b[1m[\u001b[0m\u001b[34;49mnotice\u001b[0m\u001b[1;39;49m]\u001b[0m\u001b[39;49m A new release of pip is available: \u001b[0m\u001b[31;49m23.1.1\u001b[0m\u001b[39;49m -> \u001b[0m\u001b[32;49m23.1.2\u001b[0m\n",
      "\u001b[1m[\u001b[0m\u001b[34;49mnotice\u001b[0m\u001b[1;39;49m]\u001b[0m\u001b[39;49m To update, run: \u001b[0m\u001b[32;49mpython -m pip install --upgrade pip\u001b[0m\n",
      "Requirement already satisfied: pandas in /home/codespace/.local/lib/python3.10/site-packages (2.0.1)\n",
      "Requirement already satisfied: python-dateutil>=2.8.2 in /home/codespace/.local/lib/python3.10/site-packages (from pandas) (2.8.2)\n",
      "Requirement already satisfied: pytz>=2020.1 in /home/codespace/.local/lib/python3.10/site-packages (from pandas) (2023.3)\n",
      "Requirement already satisfied: tzdata>=2022.1 in /home/codespace/.local/lib/python3.10/site-packages (from pandas) (2023.3)\n",
      "Requirement already satisfied: numpy>=1.21.0 in /home/codespace/.local/lib/python3.10/site-packages (from pandas) (1.24.3)\n",
      "Requirement already satisfied: six>=1.5 in /home/codespace/.local/lib/python3.10/site-packages (from python-dateutil>=2.8.2->pandas) (1.16.0)\n",
      "\n",
      "\u001b[1m[\u001b[0m\u001b[34;49mnotice\u001b[0m\u001b[1;39;49m]\u001b[0m\u001b[39;49m A new release of pip is available: \u001b[0m\u001b[31;49m23.1.1\u001b[0m\u001b[39;49m -> \u001b[0m\u001b[32;49m23.1.2\u001b[0m\n",
      "\u001b[1m[\u001b[0m\u001b[34;49mnotice\u001b[0m\u001b[1;39;49m]\u001b[0m\u001b[39;49m To update, run: \u001b[0m\u001b[32;49mpython -m pip install --upgrade pip\u001b[0m\n",
      "Collecting prettytable\n",
      "  Downloading prettytable-3.7.0-py3-none-any.whl (27 kB)\n",
      "Requirement already satisfied: wcwidth in /home/codespace/.local/lib/python3.10/site-packages (from prettytable) (0.2.6)\n",
      "Installing collected packages: prettytable\n",
      "Successfully installed prettytable-3.7.0\n",
      "\n",
      "\u001b[1m[\u001b[0m\u001b[34;49mnotice\u001b[0m\u001b[1;39;49m]\u001b[0m\u001b[39;49m A new release of pip is available: \u001b[0m\u001b[31;49m23.1.1\u001b[0m\u001b[39;49m -> \u001b[0m\u001b[32;49m23.1.2\u001b[0m\n",
      "\u001b[1m[\u001b[0m\u001b[34;49mnotice\u001b[0m\u001b[1;39;49m]\u001b[0m\u001b[39;49m To update, run: \u001b[0m\u001b[32;49mpython -m pip install --upgrade pip\u001b[0m\n"
     ]
    }
   ],
   "source": [
    "!pip install numpy\n",
    "!pip install pandas\n",
    "!pip install prettytable\n"
   ]
  },
  {
   "cell_type": "code",
   "execution_count": null,
   "metadata": {},
   "outputs": [],
   "source": [
    "\n",
    "import prettytable\n",
    "import numpy as np\n",
    "import matplotlib.pyplot as plt"
   ]
  },
  {
   "cell_type": "code",
   "execution_count": null,
   "metadata": {},
   "outputs": [],
   "source": [
    "import prettytable\n",
    "import numpy as np\n",
    "import matplotlib.pyplot as plt\n",
    "\n",
    "def calcular_materiales(largo, ancho, espesor):\n",
    "    tabla = prettytable.PrettyTable()\n",
    "    tabla.field_names = [\"Variable\", \"Valor\"]\n",
    "\n",
    "    espesor_metros = espesor / 100\n",
    "    volumen = largo * ancho * espesor_metros\n",
    "    cemento = volumen * 7\n",
    "\n",
    "    cantidad_arena = 0\n",
    "    cantidad_grava = 0\n",
    "    parihuela_metros = 0.027\n",
    "\n",
    "    saco_de_cemento = 0\n",
    "    while saco_de_cemento < cemento:\n",
    "        cantidad_arena += 2 * parihuela_metros\n",
    "        cantidad_grava += 3 * parihuela_metros\n",
    "        saco_de_cemento += 1\n",
    "\n",
    "    tabla.add_row([\"Largo de la Losa (m)\", largo])\n",
    "    tabla.add_row([\"Ancho de la Losa (m)\", ancho])\n",
    "    tabla.add_row([\"Espesor de la Losa (cm)\", espesor])\n",
    "    tabla.add_row([\"Volumen de la losa (m^3)\", volumen])\n",
    "    tabla.add_row([\"Cantidad de cemento necesaria (sacos)\", cemento])\n",
    "    tabla.add_row([\"Cantidad de arena necesaria (m^3)\", cantidad_arena])\n",
    "    tabla.add_row([\"Cantidad de grava necesaria (m^3)\", cantidad_grava])\n",
    "\n",
    "    return tabla, volumen, cemento, cantidad_arena, cantidad_grava\n",
    "\n",
    "def graficar_distribucion_materiales(volumen, cemento, arena, grava):\n",
    "    materiales = ['Cemento', 'Arena', 'Grava']\n",
    "    cantidades = [cemento, arena, grava]\n",
    "\n",
    "    plt.bar(materiales, cantidades)\n",
    "    plt.xlabel('Materiales')\n",
    "    plt.ylabel('Cantidad (m^3)')\n",
    "    plt.title('Distribución de materiales en la losa')\n",
    "    plt.show()\n",
    "\n",
    "def main():\n",
    "    largo = float(input(\"Ingrese el largo de la losa en metros: \"))\n",
    "    ancho = float(input(\"Ingrese el ancho de la losa en metros: \"))\n",
    "    espesor = float(input(\"Ingrese el espesor de la losa en centímetros: \"))\n",
    "\n",
    "    tabla, volumen, cemento, arena, grava = calcular_materiales(largo, ancho, espesor)\n",
    "    print(tabla)\n",
    "\n",
    "    graficar_distribucion_materiales(volumen, cemento, arena, grava)\n",
    "\n",
    "if __name__ == '__main__':\n",
    "    main()\n",
    "    \n",
    "    \n",
    "    "
   ]
  },
  {
   "cell_type": "code",
   "execution_count": 2,
   "metadata": {},
   "outputs": [
    {
     "name": "stdout",
     "output_type": "stream",
     "text": [
      "5\n",
      "9\n"
     ]
    }
   ],
   "source": [
    "def sumar (a,b): \n",
    "    return a + b\n",
    "print(sumar(2,3))\n",
    "print(sumar(4,5))\n",
    "   "
   ]
  },
  {
   "cell_type": "code",
   "execution_count": null,
   "metadata": {},
   "outputs": [],
   "source": []
  },
  {
   "cell_type": "code",
   "execution_count": null,
   "metadata": {},
   "outputs": [],
   "source": []
  }
 ],
 "metadata": {
  "kernelspec": {
   "display_name": "Python 3",
   "language": "python",
   "name": "python3"
  },
  "language_info": {
   "codemirror_mode": {
    "name": "ipython",
    "version": 3
   },
   "file_extension": ".py",
   "mimetype": "text/x-python",
   "name": "python",
   "nbconvert_exporter": "python",
   "pygments_lexer": "ipython3",
   "version": "3.10.4"
  },
  "orig_nbformat": 4
 },
 "nbformat": 4,
 "nbformat_minor": 2
}
